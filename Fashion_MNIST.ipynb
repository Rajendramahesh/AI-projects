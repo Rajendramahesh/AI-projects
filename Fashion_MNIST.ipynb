{
  "nbformat": 4,
  "nbformat_minor": 0,
  "metadata": {
    "colab": {
      "name": "Fashion_MNIST.ipynb",
      "provenance": [],
      "collapsed_sections": []
    },
    "kernelspec": {
      "name": "python3",
      "display_name": "Python 3"
    },
    "language_info": {
      "name": "python"
    },
    "accelerator": "GPU"
  },
  "cells": [
    {
      "cell_type": "code",
      "metadata": {
        "id": "bKVO1r6wknsS",
        "colab": {
          "base_uri": "https://localhost:8080/"
        },
        "outputId": "1229227b-aee8-4997-89e8-198d119967ca"
      },
      "source": [
        "import tensorflow as tf\n",
        "import numpy as np\n",
        "\n",
        "(x_train, y_train), (x_test, y_test) = tf.keras.datasets.fashion_mnist.load_data()\n",
        "\n"
      ],
      "execution_count": null,
      "outputs": [
        {
          "output_type": "stream",
          "name": "stdout",
          "text": [
            "Downloading data from https://storage.googleapis.com/tensorflow/tf-keras-datasets/train-labels-idx1-ubyte.gz\n",
            "32768/29515 [=================================] - 0s 0us/step\n",
            "40960/29515 [=========================================] - 0s 0us/step\n",
            "Downloading data from https://storage.googleapis.com/tensorflow/tf-keras-datasets/train-images-idx3-ubyte.gz\n",
            "26427392/26421880 [==============================] - 0s 0us/step\n",
            "26435584/26421880 [==============================] - 0s 0us/step\n",
            "Downloading data from https://storage.googleapis.com/tensorflow/tf-keras-datasets/t10k-labels-idx1-ubyte.gz\n",
            "16384/5148 [===============================================================================================] - 0s 0us/step\n",
            "Downloading data from https://storage.googleapis.com/tensorflow/tf-keras-datasets/t10k-images-idx3-ubyte.gz\n",
            "4423680/4422102 [==============================] - 0s 0us/step\n",
            "4431872/4422102 [==============================] - 0s 0us/step\n"
          ]
        }
      ]
    },
    {
      "cell_type": "code",
      "metadata": {
        "colab": {
          "base_uri": "https://localhost:8080/",
          "height": 45
        },
        "id": "MhY7HdH3lkuA",
        "outputId": "29ac7999-76e4-4a42-d1c3-472ee4799a23"
      },
      "source": [
        "import cv2\n",
        "import numpy as np\n",
        "from google.colab.patches import cv2_imshow\n",
        "\n",
        "cv2_imshow(x_train[1])"
      ],
      "execution_count": null,
      "outputs": [
        {
          "output_type": "display_data",
          "data": {
            "image/png": "[encoded data removed]",
            "text/plain": [
              "<PIL.Image.Image image mode=L size=28x28 at 0x7F198A199790>"
            ]
          },
          "metadata": {}
        }
      ]
    },
    {
      "cell_type": "code",
      "metadata": {
        "id": "ZnLa_Hnpoz6t"
      },
      "source": [
        "labels=[\"T-shirt/top\",\"Trouser\",\"Pullover\",\"Dress\",\"Coat\",\"Sandal\",\"Shirt\",\"Sneaker\",\"Bag\",\"Ankle boot\"]"
      ],
      "execution_count": null,
      "outputs": []
    },
    {
      "cell_type": "code",
      "metadata": {
        "colab": {
          "base_uri": "https://localhost:8080/",
          "height": 217
        },
        "id": "u8vA9td1nUoG",
        "outputId": "2b29044c-aba8-4fe2-e01f-b498806c951c"
      },
      "source": [
        "i=cv2.resize(x_train[1],(150,200))\n",
        "cv2_imshow(i)"
      ],
      "execution_count": null,
      "outputs": [
        {
          "output_type": "display_data",
          "data": {
            "image/png": "[encoded data removed]",
            "text/plain": [
              "<PIL.Image.Image image mode=L size=150x200 at 0x7F1980A7ACD0>"
            ]
          },
          "metadata": {}
        }
      ]
    },
    {
      "cell_type": "code",
      "metadata": {
        "colab": {
          "base_uri": "https://localhost:8080/",
          "height": 298
        },
        "id": "H_Oeo2rgn033",
        "outputId": "200c1068-0cc2-45cb-ac75-e9aca886e431"
      },
      "source": [
        "import matplotlib.pyplot as plt\n",
        "\n",
        "plt.imshow(x_train[1])\n",
        "plt.title(labels[y_train[1]])"
      ],
      "execution_count": null,
      "outputs": [
        {
          "output_type": "execute_result",
          "data": {
            "text/plain": [
              "Text(0.5, 1.0, 'T-shirt/top')"
            ]
          },
          "metadata": {},
          "execution_count": 5
        },
        {
          "output_type": "display_data",
          "data": {
            "image/png": "[encoded data removed]",
            "text/plain": [
              "<Figure size 432x288 with 1 Axes>"
            ]
          },
          "metadata": {
            "needs_background": "light"
          }
        }
      ]
    },
    {
      "cell_type": "code",
      "metadata": {
        "colab": {
          "base_uri": "https://localhost:8080/",
          "height": 298
        },
        "id": "NjuSpmZIp__U",
        "outputId": "a57480f5-5a39-4df7-c7dd-66c3c09eafc3"
      },
      "source": [
        "plt.imshow(x_train[100])\n",
        "plt.title(labels[y_train[100]])"
      ],
      "execution_count": null,
      "outputs": [
        {
          "output_type": "execute_result",
          "data": {
            "text/plain": [
              "Text(0.5, 1.0, 'Bag')"
            ]
          },
          "metadata": {},
          "execution_count": 6
        },
        {
          "output_type": "display_data",
          "data": {
            "image/png": "[encoded data removed]",
            "text/plain": [
              "<Figure size 432x288 with 1 Axes>"
            ]
          },
          "metadata": {
            "needs_background": "light"
          }
        }
      ]
    },
    {
      "cell_type": "code",
      "metadata": {
        "colab": {
          "base_uri": "https://localhost:8080/",
          "height": 589
        },
        "id": "Q9uAjLwaYgL6",
        "outputId": "bbcd647e-0f46-48c8-889b-70cddac2e5b4"
      },
      "source": [
        "plt.figure(figsize=(10,10))\n",
        "for i in range(25):\n",
        "    #image = image.numpy().reshape((28,28))\n",
        "    plt.subplot(5,5,i+1)\n",
        "    plt.xticks([])\n",
        "    plt.yticks([])\n",
        "    plt.grid(False)\n",
        "    plt.imshow(x_test[i], cmap=plt.cm.binary)\n",
        "    plt.xlabel(labels[y_test[i]])\n",
        "    i += 1\n",
        "plt.show()\n"
      ],
      "execution_count": null,
      "outputs": [
        {
          "output_type": "display_data",
          "data": {
            "image/png": "[encoded data removed]",
            "text/plain": [
              "<Figure size 720x720 with 25 Axes>"
            ]
          },
          "metadata": {}
        }
      ]
    },
    {
      "cell_type": "code",
      "metadata": {
        "colab": {
          "base_uri": "https://localhost:8080/"
        },
        "id": "TkwvGRU6rpKR",
        "outputId": "1f4df37d-c785-4a87-e25f-3d409fecd81a"
      },
      "source": [
        "np.max(x_train[2000])"
      ],
      "execution_count": null,
      "outputs": [
        {
          "output_type": "execute_result",
          "data": {
            "text/plain": [
              "255"
            ]
          },
          "metadata": {},
          "execution_count": 8
        }
      ]
    },
    {
      "cell_type": "code",
      "metadata": {
        "colab": {
          "base_uri": "https://localhost:8080/"
        },
        "id": "5bi9lvoRqrqP",
        "outputId": "c9292137-3d21-48d9-9a33-9d0b67932dcc"
      },
      "source": [
        "#normalizing\n",
        "\n",
        "x_train=x_train/255\n",
        "x_test=x_test/255\n",
        "\n",
        "np.max(x_train[2000])"
      ],
      "execution_count": null,
      "outputs": [
        {
          "output_type": "execute_result",
          "data": {
            "text/plain": [
              "1.0"
            ]
          },
          "metadata": {},
          "execution_count": 9
        }
      ]
    },
    {
      "cell_type": "code",
      "metadata": {
        "colab": {
          "base_uri": "https://localhost:8080/"
        },
        "id": "9shIsh79ysv_",
        "outputId": "20075567-d1a2-407c-ddd8-f7bc81ad181b"
      },
      "source": [
        "28*28*3/2"
      ],
      "execution_count": null,
      "outputs": [
        {
          "output_type": "execute_result",
          "data": {
            "text/plain": [
              "1176.0"
            ]
          },
          "metadata": {},
          "execution_count": 10
        }
      ]
    },
    {
      "cell_type": "code",
      "metadata": {
        "id": "3S4ytGzFuSpH"
      },
      "source": [
        "#NN\n",
        "\n",
        "model = tf.keras.Sequential()\n",
        "model.add(tf.keras.layers.Conv2D(28,(3,3)))\n",
        "model.add(tf.keras.layers.MaxPooling2D())\n",
        "model.add(tf.keras.layers.Flatten())\n",
        "model.add(tf.keras.layers.Dense(1176,'relu',input_shape=(28,28,3)))\n",
        "model.add(tf.keras.layers.Dense(10,'softmax'))"
      ],
      "execution_count": null,
      "outputs": []
    },
    {
      "cell_type": "code",
      "metadata": {
        "id": "2C1v66049yvA"
      },
      "source": [
        "model.compile(optimizer='adam',loss='sparse_categorical_crossentropy',metrics=['accuracy'])"
      ],
      "execution_count": null,
      "outputs": []
    },
    {
      "cell_type": "code",
      "metadata": {
        "id": "m4OQz64sZLPn"
      },
      "source": [
        "x_train = tf.reshape(x_train, [60000, 28, 28, 1])\n",
        "x_test = tf.reshape(x_test, [10000, 28, 28, 1])"
      ],
      "execution_count": null,
      "outputs": []
    },
    {
      "cell_type": "code",
      "metadata": {
        "colab": {
          "base_uri": "https://localhost:8080/"
        },
        "id": "4Q4KDaAVyRaQ",
        "outputId": "3cfbfa9b-3ce4-4685-c04f-4310e8f64268"
      },
      "source": [
        "model.fit(x_train,y_train,epochs=30)"
      ],
      "execution_count": null,
      "outputs": [
        {
          "output_type": "stream",
          "name": "stdout",
          "text": [
            "Epoch 1/30\n",
            "1875/1875 [==============================] - 25s 7ms/step - loss: 0.3698 - accuracy: 0.8676\n",
            "Epoch 2/30\n",
            "1875/1875 [==============================] - 13s 7ms/step - loss: 0.2414 - accuracy: 0.9114\n",
            "Epoch 3/30\n",
            "1875/1875 [==============================] - 13s 7ms/step - loss: 0.1879 - accuracy: 0.9303\n",
            "Epoch 4/30\n",
            "1875/1875 [==============================] - 13s 7ms/step - loss: 0.1480 - accuracy: 0.9452\n",
            "Epoch 5/30\n",
            "1875/1875 [==============================] - 16s 9ms/step - loss: 0.1168 - accuracy: 0.9561\n",
            "Epoch 6/30\n",
            "1875/1875 [==============================] - 20s 11ms/step - loss: 0.0950 - accuracy: 0.9652\n",
            "Epoch 7/30\n",
            "1875/1875 [==============================] - 15s 8ms/step - loss: 0.0790 - accuracy: 0.9715\n",
            "Epoch 8/30\n",
            "1875/1875 [==============================] - 14s 8ms/step - loss: 0.0664 - accuracy: 0.9763\n",
            "Epoch 9/30\n",
            "1875/1875 [==============================] - 14s 8ms/step - loss: 0.0573 - accuracy: 0.9793\n",
            "Epoch 10/30\n",
            "1875/1875 [==============================] - 14s 8ms/step - loss: 0.0532 - accuracy: 0.9812\n",
            "Epoch 11/30\n",
            "1875/1875 [==============================] - 14s 8ms/step - loss: 0.0446 - accuracy: 0.9851\n",
            "Epoch 12/30\n",
            "1875/1875 [==============================] - 14s 8ms/step - loss: 0.0463 - accuracy: 0.9845\n",
            "Epoch 13/30\n",
            "1875/1875 [==============================] - 15s 8ms/step - loss: 0.0357 - accuracy: 0.9883\n",
            "Epoch 14/30\n",
            "1875/1875 [==============================] - 14s 8ms/step - loss: 0.0394 - accuracy: 0.9873\n",
            "Epoch 15/30\n",
            "1875/1875 [==============================] - 14s 8ms/step - loss: 0.0357 - accuracy: 0.9881\n",
            "Epoch 16/30\n",
            "1875/1875 [==============================] - 14s 8ms/step - loss: 0.0333 - accuracy: 0.9892\n",
            "Epoch 17/30\n",
            "1875/1875 [==============================] - 14s 7ms/step - loss: 0.0290 - accuracy: 0.9897\n",
            "Epoch 18/30\n",
            "1875/1875 [==============================] - 14s 7ms/step - loss: 0.0291 - accuracy: 0.9902\n",
            "Epoch 19/30\n",
            "1875/1875 [==============================] - 14s 7ms/step - loss: 0.0303 - accuracy: 0.9901\n",
            "Epoch 20/30\n",
            "1875/1875 [==============================] - 15s 8ms/step - loss: 0.0285 - accuracy: 0.9912\n",
            "Epoch 21/30\n",
            "1875/1875 [==============================] - 14s 7ms/step - loss: 0.0295 - accuracy: 0.9913\n",
            "Epoch 22/30\n",
            "1875/1875 [==============================] - 14s 7ms/step - loss: 0.0287 - accuracy: 0.9914\n",
            "Epoch 23/30\n",
            "1875/1875 [==============================] - 14s 7ms/step - loss: 0.0282 - accuracy: 0.9917\n",
            "Epoch 24/30\n",
            "1875/1875 [==============================] - 14s 8ms/step - loss: 0.0253 - accuracy: 0.9929\n",
            "Epoch 25/30\n",
            "1875/1875 [==============================] - 14s 7ms/step - loss: 0.0213 - accuracy: 0.9939\n",
            "Epoch 26/30\n",
            "1875/1875 [==============================] - 14s 7ms/step - loss: 0.0286 - accuracy: 0.9921\n",
            "Epoch 27/30\n",
            "1875/1875 [==============================] - 14s 7ms/step - loss: 0.0238 - accuracy: 0.9929\n",
            "Epoch 28/30\n",
            "1875/1875 [==============================] - 14s 7ms/step - loss: 0.0236 - accuracy: 0.9937\n",
            "Epoch 29/30\n",
            "1875/1875 [==============================] - 14s 7ms/step - loss: 0.0266 - accuracy: 0.9932\n",
            "Epoch 30/30\n",
            "1875/1875 [==============================] - 14s 7ms/step - loss: 0.0192 - accuracy: 0.9945\n"
          ]
        },
        {
          "output_type": "execute_result",
          "data": {
            "text/plain": [
              "<keras.callbacks.History at 0x7f197007da50>"
            ]
          },
          "metadata": {},
          "execution_count": 14
        }
      ]
    },
    {
      "cell_type": "code",
      "metadata": {
        "colab": {
          "base_uri": "https://localhost:8080/"
        },
        "id": "bWTF8lkPaZvH",
        "outputId": "3a84ba97-701f-4fae-8bed-1fe8641f29ad"
      },
      "source": [
        "op = model.predict(x_test)[1]\n",
        "op = np.argmax(op)\n",
        "op = labels[op]\n",
        "print(op)"
      ],
      "execution_count": null,
      "outputs": [
        {
          "output_type": "stream",
          "name": "stdout",
          "text": [
            "Pullover\n"
          ]
        }
      ]
    },
    {
      "cell_type": "code",
      "metadata": {
        "colab": {
          "base_uri": "https://localhost:8080/"
        },
        "id": "17_BJCagahIu",
        "outputId": "6605d17b-dd94-43ec-d257-3cabc05edb72"
      },
      "source": [
        "y_pred = model.predict(x_test)\n",
        "y_pred = np.argmax(y_pred,axis=1)\n",
        "y_pred"
      ],
      "execution_count": null,
      "outputs": [
        {
          "output_type": "execute_result",
          "data": {
            "text/plain": [
              "array([9, 2, 1, ..., 8, 1, 5])"
            ]
          },
          "metadata": {},
          "execution_count": 16
        }
      ]
    },
    {
      "cell_type": "code",
      "metadata": {
        "colab": {
          "base_uri": "https://localhost:8080/"
        },
        "id": "sIKNLg1ObYmW",
        "outputId": "9562a9fc-ccb0-4aca-dc1b-a1f55bcc86cd"
      },
      "source": [
        "y_test.flatten()"
      ],
      "execution_count": null,
      "outputs": [
        {
          "output_type": "execute_result",
          "data": {
            "text/plain": [
              "array([9, 2, 1, ..., 8, 1, 5], dtype=uint8)"
            ]
          },
          "metadata": {},
          "execution_count": 17
        }
      ]
    },
    {
      "cell_type": "code",
      "metadata": {
        "colab": {
          "base_uri": "https://localhost:8080/"
        },
        "id": "BW2meYKCa3P_",
        "outputId": "122bf241-1b48-4074-ed92-2038a721b7ad"
      },
      "source": [
        "from sklearn.metrics import accuracy_score,confusion_matrix\n",
        "confusion_matrix(y_pred,y_test)"
      ],
      "execution_count": null,
      "outputs": [
        {
          "output_type": "execute_result",
          "data": {
            "text/plain": [
              "array([[884,   3,  20,  16,   0,   0, 115,   0,   4,   0],\n",
              "       [  1, 979,   1,   4,   0,   0,   0,   0,   1,   0],\n",
              "       [ 17,   1, 877,   9,  68,   0,  52,   0,   3,   0],\n",
              "       [ 10,  11,   9, 922,  32,   0,  21,   0,   5,   0],\n",
              "       [  3,   3,  39,  19, 852,   0,  69,   0,   1,   0],\n",
              "       [  0,   0,   0,   0,   0, 982,   0,   2,   1,   9],\n",
              "       [ 81,   1,  54,  26,  46,   0, 737,   0,   7,   1],\n",
              "       [  0,   0,   0,   0,   0,  14,   0, 981,   2,  42],\n",
              "       [  4,   2,   0,   4,   1,   1,   6,   0, 976,   0],\n",
              "       [  0,   0,   0,   0,   1,   3,   0,  17,   0, 948]])"
            ]
          },
          "metadata": {},
          "execution_count": 18
        }
      ]
    },
    {
      "cell_type": "code",
      "metadata": {
        "colab": {
          "base_uri": "https://localhost:8080/"
        },
        "id": "VF8g-acPbdE8",
        "outputId": "99ca4c65-81c7-4a60-e909-c0483630227d"
      },
      "source": [
        "accuracy_score(y_pred,y_test)"
      ],
      "execution_count": null,
      "outputs": [
        {
          "output_type": "execute_result",
          "data": {
            "text/plain": [
              "0.9138"
            ]
          },
          "metadata": {},
          "execution_count": 19
        }
      ]
    },
    {
      "cell_type": "code",
      "metadata": {
        "id": "7Kug7T5Xbkd5"
      },
      "source": [
        "model.save('DL_Model.h5')"
      ],
      "execution_count": null,
      "outputs": []
    },
    {
      "cell_type": "code",
      "metadata": {
        "colab": {
          "base_uri": "https://localhost:8080/"
        },
        "id": "aubAQ3Nzb8vh",
        "outputId": "4877cbe5-0b52-4c58-ab57-b7b780596de4"
      },
      "source": [
        "model.summary()"
      ],
      "execution_count": null,
      "outputs": [
        {
          "output_type": "stream",
          "name": "stdout",
          "text": [
            "Model: \"sequential\"\n",
            "_________________________________________________________________\n",
            " Layer (type)                Output Shape              Param #   \n",
            "=================================================================\n",
            " conv2d (Conv2D)             (None, 26, 26, 28)        280       \n",
            "                                                                 \n",
            " max_pooling2d (MaxPooling2D  (None, 13, 13, 28)       0         \n",
            " )                                                               \n",
            "                                                                 \n",
            " flatten (Flatten)           (None, 4732)              0         \n",
            "                                                                 \n",
            " dense (Dense)               (None, 1176)              5566008   \n",
            "                                                                 \n",
            " dense_1 (Dense)             (None, 10)                11770     \n",
            "                                                                 \n",
            "=================================================================\n",
            "Total params: 5,578,058\n",
            "Trainable params: 5,578,058\n",
            "Non-trainable params: 0\n",
            "_________________________________________________________________\n"
          ]
        }
      ]
    }
  ]
}