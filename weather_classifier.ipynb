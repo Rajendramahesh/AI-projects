{
  "cells": [
    {
      "cell_type": "code",
      "execution_count": null,
      "metadata": {
        "id": "sFPU0T_60kyg"
      },
      "outputs": [],
      "source": [
        "\n",
        "import numpy as np\n",
        "import matplotlib.pyplot as plt\n",
        "from glob import glob\n",
        "from keras.models import Model\n",
        "from keras.applications.vgg16 import VGG16, preprocess_input, decode_predictions\n",
        "from keras import Input\n",
        "from keras.preprocessing.image import load_img, img_to_array, ImageDataGenerator\n",
        "from keras.layers import Dense, Flatten\n",
        "import tensorflow as tf\n"
      ]
    },
    {
      "cell_type": "markdown",
      "source": [
        "dataset----https://www.kaggle.com/pratik2901/multiclass-weather-dataset"
      ],
      "metadata": {
        "id": "EOBYEl2mkVz6"
      }
    },
    {
      "cell_type": "code",
      "execution_count": null,
      "metadata": {
        "colab": {
          "base_uri": "https://localhost:8080/"
        },
        "id": "IC7ro-Hd3AJE",
        "outputId": "22b0fb6a-3cbf-493c-8046-3cf336c21262"
      },
      "outputs": [
        {
          "output_type": "stream",
          "name": "stdout",
          "text": [
            "Mounted at /content/drive\n"
          ]
        }
      ],
      "source": [
        "from google.colab import drive\n",
        "drive.mount('/content/drive')"
      ]
    },
    {
      "cell_type": "code",
      "execution_count": null,
      "metadata": {
        "colab": {
          "base_uri": "https://localhost:8080/"
        },
        "id": "fdHNy2TE3ddS",
        "outputId": "159e76f0-df48-431b-aeed-9722d631fc52"
      },
      "outputs": [
        {
          "output_type": "stream",
          "name": "stdout",
          "text": [
            "/content/drive/My Drive/Colab Notebooks\n"
          ]
        }
      ],
      "source": [
        "%cd \"/content/drive/My Drive/Colab Notebooks\""
      ]
    },
    {
      "cell_type": "code",
      "execution_count": null,
      "metadata": {
        "colab": {
          "base_uri": "https://localhost:8080/"
        },
        "id": "Rm6ea46u3vxU",
        "outputId": "0b74b84b-5f2c-4282-9f60-19a860d6e89a"
      },
      "outputs": [
        {
          "output_type": "stream",
          "name": "stdout",
          "text": [
            "Untitled0.ipynb  weather_classifier.ipynb\n"
          ]
        }
      ],
      "source": [
        "!ls"
      ]
    },
    {
      "cell_type": "code",
      "execution_count": null,
      "metadata": {
        "id": "Xmppxl2R8H1Y"
      },
      "outputs": [],
      "source": [
        "!unzip -q \"/content/drive/My Drive/Colab Notebooks/archive.zip\""
      ]
    },
    {
      "cell_type": "code",
      "source": [
        "!ls"
      ],
      "metadata": {
        "colab": {
          "base_uri": "https://localhost:8080/"
        },
        "id": "jkd0EvjP_IFJ",
        "outputId": "bd3288a1-96f8-4926-df32-13376a7d507c"
      },
      "execution_count": null,
      "outputs": [
        {
          "output_type": "stream",
          "name": "stdout",
          "text": [
            " drive\t'Multi-class Weather Dataset'   sample_data\n"
          ]
        }
      ]
    },
    {
      "cell_type": "code",
      "execution_count": null,
      "metadata": {
        "colab": {
          "base_uri": "https://localhost:8080/"
        },
        "id": "rpkPTkbH4AHS",
        "outputId": "316872b9-481a-43db-e2df-f9e215f5bfe7"
      },
      "outputs": [
        {
          "output_type": "stream",
          "name": "stdout",
          "text": [
            "Found 901 images belonging to 4 classes.\n",
            "Found 224 images belonging to 4 classes.\n"
          ]
        }
      ],
      "source": [
        "\n",
        "train_datagen = ImageDataGenerator(rescale=1./255,\n",
        "    shear_range=0.2,\n",
        "    zoom_range=0.2,\n",
        "    horizontal_flip=True,\n",
        "    validation_split=0.2)\n",
        " \n",
        "train_data = train_datagen.flow_from_directory('Multi-class Weather Dataset',\n",
        "                                               target_size=(250 , 250),\n",
        "                                               batch_size= 32,\n",
        "                                               class_mode='categorical',\n",
        "                                                subset='training')\n",
        " \n",
        "test_data = train_datagen.flow_from_directory('Multi-class Weather Dataset',\n",
        "                                               target_size=(250 , 250),\n",
        "                                               batch_size= 32,\n",
        "                                               class_mode='categorical',\n",
        "                                                subset='validation')"
      ]
    },
    {
      "cell_type": "code",
      "execution_count": null,
      "metadata": {
        "id": "KhLY_vIC9gHN"
      },
      "outputs": [],
      "source": [
        "num_classes = 4\n",
        "\n",
        "# defining model\n",
        "model = tf.keras.Sequential([\n",
        "    tf.keras.layers.Conv2D(32, (5,5), input_shape = (250 , 250 , 3), activation = 'relu'),\n",
        "    tf.keras.layers.MaxPool2D(3,3),\n",
        "    tf.keras.layers.Conv2D(64, (5,5) , activation = 'relu'),\n",
        "    tf.keras.layers.MaxPool2D((3,3)),\n",
        "    tf.keras.layers.Conv2D(128 , (5,5) , activation = 'relu'),\n",
        "    tf.keras.layers.MaxPool2D(3,3),\n",
        "    tf.keras.layers.Flatten(),\n",
        "    tf.keras.layers.Dropout(0.5, seed = 5),\n",
        "    tf.keras.layers.Dense(128 , activation = 'relu'),\n",
        "    tf.keras.layers.Dense(num_classes , activation = 'softmax')])\n"
      ]
    },
    {
      "cell_type": "code",
      "execution_count": null,
      "metadata": {
        "colab": {
          "base_uri": "https://localhost:8080/"
        },
        "id": "ZTOrH3EwAvyH",
        "outputId": "72a8b0ee-3b08-4262-f36f-ed62c518899a"
      },
      "outputs": [
        {
          "output_type": "stream",
          "name": "stderr",
          "text": [
            "/usr/local/lib/python3.7/dist-packages/keras/optimizer_v2/adam.py:105: UserWarning: The `lr` argument is deprecated, use `learning_rate` instead.\n",
            "  super(Adam, self).__init__(name, **kwargs)\n"
          ]
        }
      ],
      "source": [
        "# getting model summary after compiling\n",
        "model.compile(loss = 'categorical_crossentropy' , optimizer = tf.keras.optimizers.Adam(lr = 0.001) , metrics = 'accuracy')"
      ]
    },
    {
      "cell_type": "code",
      "execution_count": null,
      "metadata": {
        "colab": {
          "base_uri": "https://localhost:8080/"
        },
        "id": "S9wURX91A1wD",
        "outputId": "536f68f9-8bf2-4da7-9441-f2e94db846ef"
      },
      "outputs": [
        {
          "output_type": "stream",
          "name": "stdout",
          "text": [
            "Model: \"sequential\"\n",
            "_________________________________________________________________\n",
            " Layer (type)                Output Shape              Param #   \n",
            "=================================================================\n",
            " conv2d (Conv2D)             (None, 246, 246, 32)      2432      \n",
            "                                                                 \n",
            " max_pooling2d (MaxPooling2D  (None, 82, 82, 32)       0         \n",
            " )                                                               \n",
            "                                                                 \n",
            " conv2d_1 (Conv2D)           (None, 78, 78, 64)        51264     \n",
            "                                                                 \n",
            " max_pooling2d_1 (MaxPooling  (None, 26, 26, 64)       0         \n",
            " 2D)                                                             \n",
            "                                                                 \n",
            " conv2d_2 (Conv2D)           (None, 22, 22, 128)       204928    \n",
            "                                                                 \n",
            " max_pooling2d_2 (MaxPooling  (None, 7, 7, 128)        0         \n",
            " 2D)                                                             \n",
            "                                                                 \n",
            " flatten (Flatten)           (None, 6272)              0         \n",
            "                                                                 \n",
            " dropout (Dropout)           (None, 6272)              0         \n",
            "                                                                 \n",
            " dense (Dense)               (None, 128)               802944    \n",
            "                                                                 \n",
            " dense_1 (Dense)             (None, 4)                 516       \n",
            "                                                                 \n",
            "=================================================================\n",
            "Total params: 1,062,084\n",
            "Trainable params: 1,062,084\n",
            "Non-trainable params: 0\n",
            "_________________________________________________________________\n"
          ]
        }
      ],
      "source": [
        "model.summary()"
      ]
    },
    {
      "cell_type": "code",
      "execution_count": null,
      "metadata": {
        "colab": {
          "base_uri": "https://localhost:8080/"
        },
        "id": "D8-qnJaaA7AM",
        "outputId": "087dd855-bdab-44e0-9aa6-2e6503e258b2"
      },
      "outputs": [
        {
          "output_type": "stream",
          "name": "stdout",
          "text": [
            "Epoch 1/5\n",
            "28/28 [==============================] - 34s 884ms/step - loss: 1.0811 - accuracy: 0.4961 - val_loss: 0.7451 - val_accuracy: 0.7634\n",
            "Epoch 2/5\n",
            "28/28 [==============================] - 22s 775ms/step - loss: 0.6669 - accuracy: 0.7248 - val_loss: 0.8719 - val_accuracy: 0.6071\n",
            "Epoch 3/5\n",
            "28/28 [==============================] - 22s 790ms/step - loss: 0.6807 - accuracy: 0.7003 - val_loss: 0.5671 - val_accuracy: 0.7812\n",
            "Epoch 4/5\n",
            "28/28 [==============================] - 22s 777ms/step - loss: 0.5712 - accuracy: 0.7703 - val_loss: 0.5882 - val_accuracy: 0.7321\n",
            "Epoch 5/5\n",
            "28/28 [==============================] - 22s 777ms/step - loss: 0.5164 - accuracy: 0.7913 - val_loss: 0.5135 - val_accuracy: 0.8036\n"
          ]
        }
      ],
      "source": [
        "# training model\n",
        "history = model.fit(train_data ,\n",
        "          validation_data = test_data ,\n",
        "          epochs = 5 ,\n",
        "          steps_per_epoch = 901/32, # train_files/batch_size\n",
        "          validation_steps = 224/32, # valid_files/batch_size\n",
        "          ) "
      ]
    },
    {
      "cell_type": "code",
      "execution_count": null,
      "metadata": {
        "colab": {
          "base_uri": "https://localhost:8080/",
          "height": 573
        },
        "id": "IRxs3Lu-GD64",
        "outputId": "18cfd65e-b580-4d5a-f6fd-d968c1eaf527"
      },
      "outputs": [
        {
          "output_type": "display_data",
          "data": {
            "image/png": "[encoded data removed]",
            "text/plain": [
              "<Figure size 432x288 with 1 Axes>"
            ]
          },
          "metadata": {
            "needs_background": "light"
          }
        },
        {
          "output_type": "display_data",
          "data": {
            "image/png": "[encoded data removed]",
            "text/plain": [
              "<Figure size 432x288 with 1 Axes>"
            ]
          },
          "metadata": {
            "needs_background": "light"
          }
        }
      ],
      "source": [
        "def plot_graphs(history, string):\n",
        "  plt.plot(history.history[string])\n",
        "  plt.plot(history.history['val_'+string])\n",
        "  plt.title(string)\n",
        "  plt.xlabel(\"Epochs\")\n",
        "  plt.ylabel(string)\n",
        "  plt.legend([string, 'val_'+string])\n",
        "  plt.show()\n",
        "\n",
        "plot_graphs(history, \"accuracy\")\n",
        "plot_graphs(history, \"loss\")"
      ]
    },
    {
      "cell_type": "code",
      "execution_count": null,
      "metadata": {
        "id": "Z4Rv1VMhGiaB"
      },
      "outputs": [],
      "source": [
        "from keras.preprocessing.image import image\n",
        "\n",
        "def prediction(test_path):\n",
        "    img = image.load_img(test_path , target_size = (250 , 250))\n",
        "    img = image.img_to_array(img, dtype=np.uint8)\n",
        "    img = np.array(img)/255.0\n",
        "        \n",
        "    plt.title('Image')\n",
        "    plt.axis('off')\n",
        "    plt.imshow(img.squeeze())\n",
        "        \n",
        "    predict = model.predict(img[np.newaxis , ...])\n",
        "    predicted_class = labels[np.argmax(predict[0] , axis = -1)]\n",
        "        \n",
        "    print('Prediction Value: ' , np.max(predict[0] , axis = -1))\n",
        "    print(\"Classified:\",predicted_class)"
      ]
    },
    {
      "cell_type": "code",
      "source": [
        "# Generated Labels\n",
        "labels = {0: 'Cloudy', 1: 'Rain', 2: 'Shine', 3: 'Sunrise'}\n",
        "labels"
      ],
      "metadata": {
        "colab": {
          "base_uri": "https://localhost:8080/"
        },
        "id": "G3373sY-LUlY",
        "outputId": "c523dac8-c52f-4d0f-b673-adf5d601cddb"
      },
      "execution_count": null,
      "outputs": [
        {
          "output_type": "execute_result",
          "data": {
            "text/plain": [
              "{0: 'Cloudy', 1: 'Rain', 2: 'Shine', 3: 'Sunrise'}"
            ]
          },
          "metadata": {},
          "execution_count": 20
        }
      ]
    },
    {
      "cell_type": "code",
      "execution_count": null,
      "metadata": {
        "colab": {
          "base_uri": "https://localhost:8080/",
          "height": 298
        },
        "id": "kjnNpavxGoOS",
        "outputId": "d2e079e6-1497-43b9-cd01-ae659364fcf1"
      },
      "outputs": [
        {
          "output_type": "stream",
          "name": "stdout",
          "text": [
            "Prediction Value:  0.65930325\n",
            "Classified: Rain\n"
          ]
        },
        {
          "output_type": "display_data",
          "data": {
            "image/png": "[encoded data removed]",
            "text/plain": [
              "<Figure size 432x288 with 1 Axes>"
            ]
          },
          "metadata": {
            "needs_background": "light"
          }
        }
      ],
      "source": [
        "test_path = './Multi-class Weather Dataset/Rain/rain1.jpg'\n",
        "prediction(test_path)"
      ]
    },
    {
      "cell_type": "code",
      "execution_count": null,
      "metadata": {
        "id": "GrQVAnkoEkVv",
        "colab": {
          "base_uri": "https://localhost:8080/"
        },
        "outputId": "56f88859-dbf8-494b-bd14-a505923572df"
      },
      "outputs": [
        {
          "output_type": "stream",
          "name": "stdout",
          "text": [
            "--2021-12-21 11:12:00--  https://upload.wikimedia.org/wikipedia/commons/thumb/7/71/Cloudy_weather.jpg/800px-Cloudy_weather.jpg\n",
            "Resolving upload.wikimedia.org (upload.wikimedia.org)... 103.102.166.240, 2001:df2:e500:ed1a::2:b\n",
            "Connecting to upload.wikimedia.org (upload.wikimedia.org)|103.102.166.240|:443... connected.\n",
            "HTTP request sent, awaiting response... 200 OK\n",
            "Length: 37113 (36K) [image/jpeg]\n",
            "Saving to: ‘demo.jpg’\n",
            "\n",
            "demo.jpg            100%[===================>]  36.24K  --.-KB/s    in 0.06s   \n",
            "\n",
            "2021-12-21 11:12:01 (630 KB/s) - ‘demo.jpg’ saved [37113/37113]\n",
            "\n"
          ]
        }
      ],
      "source": [
        "!wget https://upload.wikimedia.org/wikipedia/commons/thumb/7/71/Cloudy_weather.jpg/800px-Cloudy_weather.jpg -O \"demo.jpg\""
      ]
    },
    {
      "cell_type": "code",
      "execution_count": null,
      "metadata": {
        "id": "0afBpje0C84t"
      },
      "outputs": [],
      "source": [
        "#load the image\n",
        "my_image = load_img('demo.jpg', target_size=(250,250))\n",
        "\n",
        "#preprocess the image\n",
        "my_image = img_to_array(my_image)\n",
        "my_image = my_image.reshape((1, my_image.shape[0], my_image.shape[1], my_image.shape[2]))\n",
        "my_image = preprocess_input(my_image)\n",
        " \n",
        "#make the prediction\n",
        "prediction = model.predict(my_image)"
      ]
    },
    {
      "cell_type": "code",
      "source": [
        "k=[np.round(x) for x in prediction] #hence,cloudy \n",
        "pos=k.index(max(k))\n",
        "pos"
      ],
      "metadata": {
        "colab": {
          "base_uri": "https://localhost:8080/"
        },
        "id": "aTcJEVwYMcFK",
        "outputId": "41941dae-c738-47c0-b9a5-3894124f90c3"
      },
      "execution_count": null,
      "outputs": [
        {
          "output_type": "execute_result",
          "data": {
            "text/plain": [
              "0"
            ]
          },
          "metadata": {},
          "execution_count": 28
        }
      ]
    },
    {
      "cell_type": "code",
      "source": [
        "print(\"prediction:\",labels[pos])"
      ],
      "metadata": {
        "colab": {
          "base_uri": "https://localhost:8080/"
        },
        "id": "X6fLrEz-V8Jk",
        "outputId": "7aa7238d-cca8-42ea-ae6b-0414fff42658"
      },
      "execution_count": null,
      "outputs": [
        {
          "output_type": "stream",
          "name": "stdout",
          "text": [
            "prediction: Cloudy\n"
          ]
        }
      ]
    },
    {
      "cell_type": "code",
      "source": [
        "model.save('my.h5')"
      ],
      "metadata": {
        "id": "j1pdm8JDNDfg"
      },
      "execution_count": null,
      "outputs": []
    },
    {
      "cell_type": "code",
      "source": [
        "!pip install streamlit --quiet\n",
        "!pip install pyngrok==4.1.1 --quiet\n",
        "from pyngrok import ngrok"
      ],
      "metadata": {
        "id": "C2YV_eqrRalb",
        "colab": {
          "base_uri": "https://localhost:8080/"
        },
        "outputId": "a70b934b-a963-47db-92fd-ec9df271036c"
      },
      "execution_count": null,
      "outputs": [
        {
          "output_type": "stream",
          "name": "stdout",
          "text": [
            "\u001b[K     |████████████████████████████████| 9.2 MB 4.1 MB/s \n",
            "\u001b[K     |████████████████████████████████| 180 kB 51.8 MB/s \n",
            "\u001b[K     |████████████████████████████████| 111 kB 51.3 MB/s \n",
            "\u001b[K     |████████████████████████████████| 4.3 MB 43.9 MB/s \n",
            "\u001b[K     |████████████████████████████████| 76 kB 5.1 MB/s \n",
            "\u001b[K     |████████████████████████████████| 164 kB 55.3 MB/s \n",
            "\u001b[K     |████████████████████████████████| 63 kB 1.7 MB/s \n",
            "\u001b[K     |████████████████████████████████| 126 kB 55.0 MB/s \n",
            "\u001b[K     |████████████████████████████████| 791 kB 38.0 MB/s \n",
            "\u001b[K     |████████████████████████████████| 374 kB 51.2 MB/s \n",
            "\u001b[?25h  Building wheel for blinker (setup.py) ... \u001b[?25l\u001b[?25hdone\n",
            "\u001b[31mERROR: pip's dependency resolver does not currently take into account all the packages that are installed. This behaviour is the source of the following dependency conflicts.\n",
            "jupyter-console 5.2.0 requires prompt-toolkit<2.0.0,>=1.0.0, but you have prompt-toolkit 3.0.24 which is incompatible.\n",
            "google-colab 1.0.0 requires ipykernel~=4.10, but you have ipykernel 6.6.0 which is incompatible.\n",
            "google-colab 1.0.0 requires ipython~=5.5.0, but you have ipython 7.30.1 which is incompatible.\u001b[0m\n",
            "  Building wheel for pyngrok (setup.py) ... \u001b[?25l\u001b[?25hdone\n"
          ]
        }
      ]
    },
    {
      "cell_type": "code",
      "source": [
        "%%writefile app.py\n",
        "import streamlit as st\n",
        "import tensorflow as tf\n",
        "import streamlit as st\n",
        "\n",
        "\n",
        "@st.cache(allow_output_mutation=True)\n",
        "def load_model():\n",
        "  model=tf.keras.models.load_model('/content/drive/My Drive/Colab Notebooks/Major Project AI/my.h5')\n",
        "  return model\n",
        "with st.spinner('Model is being loaded..'):\n",
        "  model=load_model()\n",
        "\n",
        "st.write(\"\"\"\n",
        "         # WEATHER CLASSIFICATION\n",
        "         \"\"\"\n",
        "         )\n",
        "\n",
        "file = st.file_uploader(\"Please upload an brain scan file\", type=[\"jpg\"])\n",
        "import cv2\n",
        "from PIL import Image, ImageOps\n",
        "import numpy as np\n",
        "st.set_option('deprecation.showfileUploaderEncoding', False)\n",
        "def import_and_predict(image_data, model):\n",
        "    \n",
        "        size = (250,250) \n",
        "        image = ImageOps.fit(image_data, size, Image.ANTIALIAS)\n",
        "        image = np.asarray(image)\n",
        "        img = cv2.cvtColor(image, cv2.COLOR_BGR2RGB)\n",
        "    \n",
        "        prediction = model.predict(img[np.newaxis,...])\n",
        "        return prediction\n",
        "if file is None:\n",
        "    st.text(\"Please upload an image file\")\n",
        "else:\n",
        "  \n",
        "    labels = {0: 'Cloudy', 1: 'Rain', 2: 'Shine', 3: 'Sunrise'}\n",
        "    image = Image.open(file)\n",
        "    st.image(image, use_column_width=True)\n",
        "    predictions = import_and_predict(image, model)\n",
        "    score = tf.nn.softmax(predictions[0])\n",
        "    predicted_class = labels[np.argmax(predictions[0] , axis = -1)]\n",
        "    st.write(predicted_class )\n",
        "    st.write(score)\n",
        "    print(\n",
        "    \"This image most likely belongs to {} with a {:.2f} percent confidence.\"\n",
        "    .format(labels[np.argmax(score)], 100 * np.max(score))\n",
        ")"
      ],
      "metadata": {
        "colab": {
          "base_uri": "https://localhost:8080/"
        },
        "id": "e-sGlLfCR9_i",
        "outputId": "eeefc0b5-097f-4017-e11c-4553acfba909"
      },
      "execution_count": null,
      "outputs": [
        {
          "output_type": "stream",
          "name": "stdout",
          "text": [
            "Writing app.py\n"
          ]
        }
      ]
    },
    {
      "cell_type": "code",
      "source": [
        "!pip install pyngrok"
      ],
      "metadata": {
        "colab": {
          "base_uri": "https://localhost:8080/"
        },
        "id": "KfTQJ5JcSUMK",
        "outputId": "ab7891a1-2e86-49fe-8c0e-5a587aa0dd77"
      },
      "execution_count": null,
      "outputs": [
        {
          "output_type": "stream",
          "name": "stdout",
          "text": [
            "Requirement already satisfied: pyngrok in /usr/local/lib/python3.7/dist-packages (4.1.1)\n",
            "Requirement already satisfied: future in /usr/local/lib/python3.7/dist-packages (from pyngrok) (0.16.0)\n",
            "Requirement already satisfied: PyYAML in /usr/local/lib/python3.7/dist-packages (from pyngrok) (3.13)\n"
          ]
        }
      ]
    },
    {
      "cell_type": "code",
      "source": [
        "!ngrok authtoken 22W98XoeXUiaK5qBLjv17MwYMDb_6ux7e6x6WArzbF7cP8qZo"
      ],
      "metadata": {
        "colab": {
          "base_uri": "https://localhost:8080/"
        },
        "id": "MQKaCd2BUavA",
        "outputId": "3dc31c69-558a-4868-8eea-c1ca760d9527"
      },
      "execution_count": null,
      "outputs": [
        {
          "output_type": "stream",
          "name": "stdout",
          "text": [
            "Authtoken saved to configuration file: /root/.ngrok2/ngrok.yml\n"
          ]
        }
      ]
    },
    {
      "cell_type": "code",
      "source": [
        "!nohup streamlit run app.py &"
      ],
      "metadata": {
        "colab": {
          "base_uri": "https://localhost:8080/"
        },
        "id": "IniKEc96SdPr",
        "outputId": "7fbd55ec-ba4e-4a24-b476-cdd3df77dd5f"
      },
      "execution_count": null,
      "outputs": [
        {
          "output_type": "stream",
          "name": "stdout",
          "text": [
            "nohup: appending output to 'nohup.out'\n"
          ]
        }
      ]
    },
    {
      "cell_type": "code",
      "source": [
        "from pyngrok import ngrok\n",
        "url=ngrok.connect(port=8501)\n",
        "url"
      ],
      "metadata": {
        "colab": {
          "base_uri": "https://localhost:8080/",
          "height": 35
        },
        "id": "LLxiR31oT90Q",
        "outputId": "0dcce099-bd7d-401e-ade5-248924f92908"
      },
      "execution_count": null,
      "outputs": [
        {
          "output_type": "execute_result",
          "data": {
            "application/vnd.google.colaboratory.intrinsic+json": {
              "type": "string"
            },
            "text/plain": [
              "'http://2a56-104-199-145-233.ngrok.io'"
            ]
          },
          "metadata": {},
          "execution_count": 36
        }
      ]
    }
  ],
  "metadata": {
    "accelerator": "GPU",
    "colab": {
      "collapsed_sections": [],
      "name": "weather_classifier.ipynb",
      "provenance": []
    },
    "kernelspec": {
      "display_name": "Python 3",
      "name": "python3"
    },
    "language_info": {
      "name": "python"
    }
  },
  "nbformat": 4,
  "nbformat_minor": 0
}